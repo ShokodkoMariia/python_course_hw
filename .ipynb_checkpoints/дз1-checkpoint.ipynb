{
 "cells": [
  {
   "cell_type": "code",
   "execution_count": null,
   "id": "a7b3c522",
   "metadata": {},
   "outputs": [],
   "source": [
    "\"\"\"1. Celsius and Fahrenheit Converter\n",
    "\n",
    "Description: To convert temperature between Fahrenheit to Celsius and Celsius to Fahrenheit\n",
    "\"\"\"\n",
    "\n"
   ]
  }
 ],
 "metadata": {
  "kernelspec": {
   "display_name": "Python 3 (ipykernel)",
   "language": "python",
   "name": "python3"
  },
  "language_info": {
   "codemirror_mode": {
    "name": "ipython",
    "version": 3
   },
   "file_extension": ".py",
   "mimetype": "text/x-python",
   "name": "python",
   "nbconvert_exporter": "python",
   "pygments_lexer": "ipython3",
   "version": "3.10.9"
  }
 },
 "nbformat": 4,
 "nbformat_minor": 5
}
