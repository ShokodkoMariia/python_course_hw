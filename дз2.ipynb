{
 "cells": [
  {
   "cell_type": "markdown",
   "source": [],
   "metadata": {
    "collapsed": false
   },
   "id": "d11e1163608ed612"
  },
  {
   "cell_type": "code",
   "execution_count": 3,
   "outputs": [
    {
     "name": "stdout",
     "output_type": "stream",
     "text": [
      "True\n"
     ]
    }
   ],
   "source": [
    "Rcount, Lcount, Ucount, Dcount = [0] * 4\n",
    "s = input()\n",
    "for i in s:\n",
    "    if i == 'R':\n",
    "        Rcount += 1\n",
    "    elif i == 'L':\n",
    "        Lcount += 1\n",
    "    elif i == 'U':\n",
    "        Ucount += 1\n",
    "    elif i == 'D':\n",
    "        Dcount += 1\n",
    "if Rcount == Lcount and Ucount == Dcount:\n",
    "    print('True')\n",
    "else:\n",
    "    print('False')"
   ],
   "metadata": {
    "collapsed": false,
    "ExecuteTime": {
     "end_time": "2023-10-11T12:32:19.708517Z",
     "start_time": "2023-10-11T12:32:13.602362Z"
    }
   },
   "id": "c94243d32486b493"
  }
 ],
 "metadata": {
  "kernelspec": {
   "display_name": "Python 3",
   "language": "python",
   "name": "python3"
  },
  "language_info": {
   "codemirror_mode": {
    "name": "ipython",
    "version": 2
   },
   "file_extension": ".py",
   "mimetype": "text/x-python",
   "name": "python",
   "nbconvert_exporter": "python",
   "pygments_lexer": "ipython2",
   "version": "2.7.6"
  }
 },
 "nbformat": 4,
 "nbformat_minor": 5
}
