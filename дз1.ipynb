{
 "cells": [
  {
   "attachments": {},
   "cell_type": "markdown",
   "id": "7514c309",
   "metadata": {},
   "source": [
    "1. Celsius and Fahrenheit Converter\n",
    "\n",
    "Description: To convert temperature between Fahrenheit to Celsius and Celsius to Fahrenheit\n"
   ]
  },
  {
   "cell_type": "code",
   "execution_count": 22,
   "id": "18fe735e",
   "metadata": {},
   "outputs": [
    {
     "name": "stdout",
     "output_type": "stream",
     "text": [
      "5F\n",
      "-15.0\n"
     ]
    }
   ],
   "source": [
    "s = input()\n",
    "if s.find('F') > -1:\n",
    "    print((int(s[:-1]) - 32) * 5 / 9)\n",
    "elif s.find('C') > -1:\n",
    "    print((int(s[:-1]) * 9 / 5) + 32)"
   ]
  },
  {
   "cell_type": "code",
   "execution_count": null,
   "id": "2cf60ac3",
   "metadata": {},
   "outputs": [],
   "source": [
    "'''2. Road tax\n",
    "Description: Write a program to accept the cost price of a bike and\n",
    "             display the road tax to be paid according to the following criteria.\n",
    "    \n",
    "Cost price (in Rs)                Tax\n",
    "   > 100_000                      15%\n",
    "   > 50_000 and <= 100_000        10%\n",
    "   <= 50_000                      5%'''"
   ]
  },
  {
   "cell_type": "code",
   "execution_count": 24,
   "id": "d3983afb",
   "metadata": {},
   "outputs": [
    {
     "name": "stdout",
     "output_type": "stream",
     "text": [
      "100001\n",
      "15000.15\n"
     ]
    }
   ],
   "source": [
    "s = float(input())\n",
    "if s > 100000:\n",
    "    print(0.15 * s)\n",
    "elif 50000 < s < 100000:\n",
    "    print(0.1 * s)\n",
    "elif 0 <= 50000:\n",
    "    print(0.05 * s)"
   ]
  },
  {
   "cell_type": "code",
   "execution_count": 23,
   "id": "6da0d9b9",
   "metadata": {},
   "outputs": [
    {
     "data": {
      "text/plain": [
       "'3. Data Format (Yandex Contest)\\n\\nDescription:\\nAs you know, there are two most common date formats:\\n- European (first day, then month, then year)\\n- American (first month, then day, then year)\\n\\nThe system administrator changed the date on one of the backups and now wants to return the date back.\\nBut he did not check what format the date is in the system.\\n\\nIn other words, you are given a record of some correct date.\\nIt is required to find out whether the date is uniquely determined from this record.\\n\\nINPUT:\\nThree integers x, y, z:\\n1 <= x <= 31, 1 <= y <= 31, 1970 <= z <= 2069.\\nIt is guaranteed that at least one format the xyz entry specifies the correct date.\\n\\nOUTPUT:\\nPrint 1 if the date is uniquely determined, and 0 otherwise.\\n\\n\\nTest Case 1:\\nINPUT:\\nx = 1\\ny = 2\\nz = 2003\\n\\nOUTPUT: 0\\n\\nTest Case 2:\\nINPUT:\\nx = 2\\ny = 27\\nz = 2008\\n\\nOUTPUT: 1\\n\\nDescription of the test cases:\\nIn the first test case:\\n- with one recording system, the date is February 1, 2003;\\n- with the other - January 2, 2003.\\nIt is impossible to name the date uniquely.\\n\\n\\nIn the second test case:\\nthe correct version of the date can be only American format: February 29, 2008.\\n'"
      ]
     },
     "execution_count": 23,
     "metadata": {},
     "output_type": "execute_result"
    }
   ],
   "source": [
    "\"\"\"3. Data Format (Yandex Contest)\n",
    "\n",
    "Description:\n",
    "As you know, there are two most common date formats:\n",
    "- European (first day, then month, then year)\n",
    "- American (first month, then day, then year)\n",
    "\n",
    "The system administrator changed the date on one of the backups and now wants to return the date back.\n",
    "But he did not check what format the date is in the system.\n",
    "\n",
    "In other words, you are given a record of some correct date.\n",
    "It is required to find out whether the date is uniquely determined from this record.\n",
    "\n",
    "INPUT:\n",
    "Three integers x, y, z:\n",
    "1 <= x <= 31, 1 <= y <= 31, 1970 <= z <= 2069.\n",
    "It is guaranteed that at least one format the xyz entry specifies the correct date.\n",
    "\n",
    "OUTPUT:\n",
    "Print 1 if the date is uniquely determined, and 0 otherwise.\n",
    "\n",
    "\n",
    "Test Case 1:\n",
    "INPUT:\n",
    "x = 1\n",
    "y = 2\n",
    "z = 2003\n",
    "\n",
    "OUTPUT: 0\n",
    "\n",
    "Test Case 2:\n",
    "INPUT:\n",
    "x = 2\n",
    "y = 27\n",
    "z = 2008\n",
    "\n",
    "OUTPUT: 1\n",
    "\n",
    "Description of the test cases:\n",
    "In the first test case:\n",
    "- with one recording system, the date is February 1, 2003;\n",
    "- with the other - January 2, 2003.\n",
    "It is impossible to name the date uniquely.\n",
    "\n",
    "\n",
    "In the second test case:\n",
    "the correct version of the date can be only American format: February 29, 2008.\n",
    "\"\"\""
   ]
  },
  {
   "cell_type": "code",
   "execution_count": 29,
   "id": "fd81bc4b",
   "metadata": {
    "scrolled": false
   },
   "outputs": [
    {
     "name": "stdout",
     "output_type": "stream",
     "text": [
      "0 0 0\n",
      "1\n"
     ]
    }
   ],
   "source": [
    "x, y, z = map(int, input().split())\n",
    "if (x >= 13 and y <= 13) or (y >= 13 and x <= 13):\n",
    "    print('1')\n",
    "elif x <= 13 and y <= 13:\n",
    "    if x == y:\n",
    "        print('1')\n",
    "    else:\n",
    "        print('0')"
   ]
  }
 ],
 "metadata": {
  "kernelspec": {
   "display_name": "Python 3 (ipykernel)",
   "language": "python",
   "name": "python3"
  },
  "language_info": {
   "codemirror_mode": {
    "name": "ipython",
    "version": 3
   },
   "file_extension": ".py",
   "mimetype": "text/x-python",
   "name": "python",
   "nbconvert_exporter": "python",
   "pygments_lexer": "ipython3",
   "version": "3.10.9"
  }
 },
 "nbformat": 4,
 "nbformat_minor": 5
}
